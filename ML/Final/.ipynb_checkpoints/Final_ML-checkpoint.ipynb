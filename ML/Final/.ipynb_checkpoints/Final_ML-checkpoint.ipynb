{
 "cells": [
  {
   "cell_type": "code",
   "execution_count": 8,
   "metadata": {
    "collapsed": true
   },
   "outputs": [],
   "source": [
    "import pandas as pd\n",
    "import numpy as np\n",
    "import json\n",
    "import re\n",
    "\n",
    "from sklearn.preprocessing import LabelEncoder\n",
    "from sklearn.feature_extraction.text import TfidfVectorizer\n",
    "from sklearn.decomposition import TruncatedSVD\n",
    "\n",
    "from sklearn.linear_model import SGDClassifier\n",
    "\n",
    "import string\n",
    "import nltk\n",
    "from nltk.tokenize import word_tokenize\n",
    "from nltk.corpus import stopwords\n",
    "from nltk.stem import WordNetLemmatizer\n",
    "from nltk.tag import StanfordNERTagger\n",
    "\n",
    "import warnings\n",
    "warnings.filterwarnings('ignore')"
   ]
  },
  {
   "cell_type": "code",
   "execution_count": 9,
   "metadata": {
    "collapsed": true
   },
   "outputs": [],
   "source": [
    "data = dict()\n",
    "content, label = [], []\n",
    "\n",
    "with open('final_data.json', 'r') as f:\n",
    "    data = json.load(f)\n",
    "    \n",
    "for each in data:\n",
    "    content.append(each)\n",
    "    label.append(data[each])\n",
    "    \n"
   ]
  },
  {
   "cell_type": "code",
   "execution_count": 10,
   "metadata": {
    "collapsed": true
   },
   "outputs": [],
   "source": [
    "#text is a string ex) \"This is a SE project\". Returns string of only NN and NNP\n",
    "def POS_remove(text):\n",
    "    tokens = word_tokenize(text)\n",
    "    tagged = nltk.pos_tag(tokens)\n",
    "    st = \"\"\n",
    "    for i in tagged:\n",
    "        if i[1] == \"NN\" or i[1] == \"NNP\":\n",
    "            st = st + \" \" + str(i[0])\n",
    "    st = st.strip()    \n",
    "    return st\n",
    "  \n",
    "#stop words removal, lower case, punctutations\n",
    "def pre_process(text):\n",
    "    text = POS_remove(text)  \n",
    "    text=text.lower()\n",
    "    text = re.sub(r'\\d+', '', text)\n",
    "    punctuations = '''!()-[]{};:'\"\\,<>./?@#$%^&*_~'''\n",
    "    no_punct = \"\"\n",
    "    for char in text:\n",
    "        if char not in punctuations:\n",
    "            no_punct = no_punct + char\n",
    "    \n",
    "    stop_words = set(stopwords.words('english'))\n",
    "    tokens = word_tokenize(no_punct)\n",
    "    text = [i for i in tokens if not i in stop_words]\n",
    "    #lemmatizer=WordNetLemmatizer()\n",
    "    st = \"\"\n",
    "    for word in text:\n",
    "        #st = st + \" \" +lemmatizer.lemmatize(word)\n",
    "        st = st + \" \" +word\n",
    "    text = st.strip()\n",
    "    st =\"\"\n",
    "    for ch in text:\n",
    "        if(ch.isalpha() or ch == ' '):\n",
    "            st = st + ch\n",
    "    return st\n"
   ]
  },
  {
   "cell_type": "code",
   "execution_count": 11,
   "metadata": {
    "collapsed": false
   },
   "outputs": [],
   "source": [
    "f = open(\"resume.txt\", \"r\")\n",
    "\n",
    "test = f.read()\n",
    "test = pre_process(test)\n",
    "\n",
    "content.append(test)\n",
    "label.append('CC')"
   ]
  },
  {
   "cell_type": "code",
   "execution_count": 12,
   "metadata": {
    "collapsed": true
   },
   "outputs": [],
   "source": [
    "df = pd.DataFrame([content, label]).T\n",
    "df.columns= ['content', 'label']\n",
    "\n",
    "LE = LabelEncoder()\n",
    "df['label_num'] = LE.fit_transform(df['label'])\n",
    "\n",
    "texts = df['content'].astype('str')\n",
    "\n",
    "tfidf_vectorizer = TfidfVectorizer(ngram_range=(1, 2), min_df = 2, max_df = .95)\n",
    "\n",
    "X = tfidf_vectorizer.fit_transform(texts) #features\n",
    "\n",
    "y = df['label_num'].values #target\n",
    "\n",
    "test = X[3477]\n",
    "y = y[:-1] \n",
    "\n",
    "lsa = TruncatedSVD(n_components=100,n_iter=10, random_state=3)\n",
    "\n",
    "X = lsa.fit_transform(X)\n",
    "\n",
    "test = X[-1]\n",
    "X = X[:-1]"
   ]
  },
  {
   "cell_type": "code",
   "execution_count": 13,
   "metadata": {
    "collapsed": false
   },
   "outputs": [
    {
     "name": "stderr",
     "output_type": "stream",
     "text": [
      "/home/saksham/anaconda3/lib/python3.5/site-packages/sklearn/linear_model/stochastic_gradient.py:128: FutureWarning: max_iter and tol parameters have been added in <class 'sklearn.linear_model.stochastic_gradient.SGDClassifier'> in 0.19. If both are left unset, they default to max_iter=5 and tol=None. If tol is not None, max_iter defaults to max_iter=1000. From 0.21, default max_iter will be 1000, and default tol will be 1e-3.\n",
      "  \"and default tol will be 1e-3.\" % type(self), FutureWarning)\n"
     ]
    }
   ],
   "source": [
    "model = SGDClassifier(random_state=3, loss='log')\n",
    "model.fit(X, y)\n",
    "\n",
    "test = test.reshape(1, -1)\n",
    "\n",
    "y_pred = model.predict(test)\n",
    "mp = {0:\"Cloud computing\", 1:\"Computer Graphics\", 2:\"Computer Networks\", 3:\"Machine Learning\", 4:\"Web Technology\"}\n",
    "\n",
    "output = mp[y_pred[0]]"
   ]
  },
  {
   "cell_type": "code",
   "execution_count": 14,
   "metadata": {
    "collapsed": false
   },
   "outputs": [
    {
     "data": {
      "text/plain": [
       "'Web Technology'"
      ]
     },
     "execution_count": 14,
     "metadata": {},
     "output_type": "execute_result"
    }
   ],
   "source": [
    "output"
   ]
  },
  {
   "cell_type": "code",
   "execution_count": 22,
   "metadata": {
    "collapsed": false
   },
   "outputs": [],
   "source": [
    "'''with open('output.json', 'w') as fp:\n",
    "    json.dump(output, fp)'''"
   ]
  },
  {
   "cell_type": "code",
   "execution_count": null,
   "metadata": {
    "collapsed": true
   },
   "outputs": [],
   "source": [
    "import warnings\n",
    "warnings.filterwarnings('ignore')"
   ]
  }
 ],
 "metadata": {
  "anaconda-cloud": {},
  "kernelspec": {
   "display_name": "Python [conda env:anaconda3]",
   "language": "python",
   "name": "conda-env-anaconda3-py"
  },
  "language_info": {
   "codemirror_mode": {
    "name": "ipython",
    "version": 3
   },
   "file_extension": ".py",
   "mimetype": "text/x-python",
   "name": "python",
   "nbconvert_exporter": "python",
   "pygments_lexer": "ipython3",
   "version": "3.5.2"
  }
 },
 "nbformat": 4,
 "nbformat_minor": 1
}
